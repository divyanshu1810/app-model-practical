{
 "cells": [
  {
   "cell_type": "code",
   "execution_count": 1,
   "metadata": {},
   "outputs": [
    {
     "name": "stdout",
     "output_type": "stream",
     "text": [
      "connection established ✅\n"
     ]
    }
   ],
   "source": [
    "import sqlite3\n",
    "connection=sqlite3.connect(\"database.db\")\n",
    "cursor=connection.cursor()\n",
    "cursor.execute(\"create table employees(employee_id integer,first_name text,last_name text,email text,phone_number integer,hire_date text,job_id integer,salary integer,commission integer,manager_id integer,department_id integer)\")\n",
    "print(\"connection established ✅\")"
   ]
  },
  {
   "cell_type": "code",
   "execution_count": 2,
   "metadata": {},
   "outputs": [
    {
     "name": "stdout",
     "output_type": "stream",
     "text": [
      "Values Added✅\n"
     ]
    }
   ],
   "source": [
    "cursor.execute(\"INSERT INTO employees (employee_id, first_name, last_name, salary) VALUES (4, 'Divyanshu', 'Yadav', 800000)\")\n",
    "cursor.execute(\"INSERT INTO employees (employee_id, first_name, last_name, salary) VALUES (3, 'Aditya', 'Swarup', 600000)\")\n",
    "cursor.execute(\"INSERT INTO employees (employee_id, first_name, last_name, salary) VALUES (5, 'Anurag', 'Jain', 600000)\")\n",
    "cursor.execute(\"INSERT INTO employees (employee_id, first_name, last_name, salary) VALUES (7, 'Shashank', 'Kumar', 300000)\")\n",
    "cursor.execute(\"INSERT INTO employees (employee_id, first_name, last_name, salary) VALUES (8, 'Niya', 'Shameer', 100000)\")\n",
    "cursor.execute(\"INSERT INTO employees (employee_id, first_name, last_name, salary) VALUES (9, 'Vashist', 'Agarwala', 200000)\")\n",
    "print(\"Values Added✅\")"
   ]
  },
  {
   "cell_type": "code",
   "execution_count": 3,
   "metadata": {},
   "outputs": [
    {
     "name": "stdout",
     "output_type": "stream",
     "text": [
      "Employees whose salary is greater than 25,000\n",
      "('Divyanshu', 'Yadav')\n",
      "('Aditya', 'Swarup')\n",
      "('Anurag', 'Jain')\n",
      "('Shashank', 'Kumar')\n",
      "('Niya', 'Shameer')\n",
      "('Vashist', 'Agarwala')\n"
     ]
    }
   ],
   "source": [
    "cursor.execute(\"Select first_name, last_name from employees where salary > 25000\")\n",
    "response = cursor.fetchall()\n",
    "print(\"Employees whose salary is greater than 25,000\")\n",
    "for employee in response:\n",
    "    print(employee)"
   ]
  },
  {
   "cell_type": "code",
   "execution_count": 4,
   "metadata": {},
   "outputs": [
    {
     "name": "stdout",
     "output_type": "stream",
     "text": [
      "connection established ✅\n"
     ]
    }
   ],
   "source": [
    "import sqlite3\n",
    "connection=sqlite3.connect(\"Students.db\")\n",
    "cursor=connection.cursor()\n",
    "cursor.execute(\"create table student(Reg_no text, stud_name text,sex text)\")\n",
    "cursor.execute(\"create table dept(dept_no text, dept_name text)\")\n",
    "print(\"connection established ✅\")"
   ]
  },
  {
   "cell_type": "code",
   "execution_count": 5,
   "metadata": {},
   "outputs": [
    {
     "name": "stdout",
     "output_type": "stream",
     "text": [
      "Values Added✅\n"
     ]
    }
   ],
   "source": [
    "cursor.execute(\"INSERT INTO student (Reg_no, stud_name,sex) VALUES ('RA2111003010693', 'Divyanshu Yadav', 'male')\")\n",
    "cursor.execute(\"INSERT INTO student (Reg_no, stud_name,sex) VALUES ('RA2111003010698', 'Aditya Swarup', 'male')\")\n",
    "cursor.execute(\"INSERT INTO student (Reg_no, stud_name,sex) VALUES ('RA2111003010702', 'Taniya Yadav', 'female')\")\n",
    "cursor.execute(\"INSERT INTO student (Reg_no, stud_name,sex) VALUES ('RA2111003010701', 'Anurag Jain', 'male')\")\n",
    "cursor.execute(\"INSERT INTO student (Reg_no, stud_name,sex) VALUES ('RA2111003010703', 'Khushi Mishra', 'female')\")\n",
    "print(\"Values Added✅\")"
   ]
  },
  {
   "cell_type": "code",
   "execution_count": 6,
   "metadata": {},
   "outputs": [
    {
     "name": "stdout",
     "output_type": "stream",
     "text": [
      "Displaying all the students:\n"
     ]
    },
    {
     "data": {
      "text/plain": [
       "[('RA2111003010693', 'Divyanshu Yadav', 'male'),\n",
       " ('RA2111003010698', 'Aditya Swarup', 'male'),\n",
       " ('RA2111003010702', 'Taniya Yadav', 'female'),\n",
       " ('RA2111003010701', 'Anurag Jain', 'male'),\n",
       " ('RA2111003010703', 'Khushi Mishra', 'female')]"
      ]
     },
     "execution_count": 6,
     "metadata": {},
     "output_type": "execute_result"
    }
   ],
   "source": [
    "cursor.execute(\"select * from student\")\n",
    "print(\"Displaying all the students:\")\n",
    "cursor.fetchall()"
   ]
  },
  {
   "cell_type": "code",
   "execution_count": 7,
   "metadata": {},
   "outputs": [
    {
     "name": "stdout",
     "output_type": "stream",
     "text": [
      "Displaying all the female students:\n"
     ]
    },
    {
     "data": {
      "text/plain": [
       "[('RA2111003010702', 'Taniya Yadav', 'female'),\n",
       " ('RA2111003010703', 'Khushi Mishra', 'female')]"
      ]
     },
     "execution_count": 7,
     "metadata": {},
     "output_type": "execute_result"
    }
   ],
   "source": [
    "cursor.execute(\"select * from student where sex = 'female'\")\n",
    "print(\"Displaying all the female students:\")\n",
    "cursor.fetchall()"
   ]
  },
  {
   "cell_type": "code",
   "execution_count": 8,
   "metadata": {},
   "outputs": [
    {
     "name": "stdout",
     "output_type": "stream",
     "text": [
      "Displaying all the students name in descending order:\n"
     ]
    },
    {
     "data": {
      "text/plain": [
       "[('RA2111003010702', 'Taniya Yadav', 'female'),\n",
       " ('RA2111003010703', 'Khushi Mishra', 'female'),\n",
       " ('RA2111003010693', 'Divyanshu Yadav', 'male'),\n",
       " ('RA2111003010701', 'Anurag Jain', 'male'),\n",
       " ('RA2111003010698', 'Aditya Swarup', 'male')]"
      ]
     },
     "execution_count": 8,
     "metadata": {},
     "output_type": "execute_result"
    }
   ],
   "source": [
    "cursor.execute(\"select * from student order by stud_name desc\")\n",
    "print(\"Displaying all the students name in descending order:\")\n",
    "cursor.fetchall()"
   ]
  },
  {
   "cell_type": "code",
   "execution_count": 10,
   "metadata": {},
   "outputs": [
    {
     "name": "stdout",
     "output_type": "stream",
     "text": [
      "Displaying all the students name ending with 'K':\n"
     ]
    },
    {
     "data": {
      "text/plain": [
       "[]"
      ]
     },
     "execution_count": 10,
     "metadata": {},
     "output_type": "execute_result"
    }
   ],
   "source": [
    "cursor.execute(\"select * from student where stud_name like '%K' \")\n",
    "print(\"Displaying all the students name ending with 'K':\")\n",
    "cursor.fetchall()"
   ]
  }
 ],
 "metadata": {
  "kernelspec": {
   "display_name": "Python 3",
   "language": "python",
   "name": "python3"
  },
  "language_info": {
   "codemirror_mode": {
    "name": "ipython",
    "version": 3
   },
   "file_extension": ".py",
   "mimetype": "text/x-python",
   "name": "python",
   "nbconvert_exporter": "python",
   "pygments_lexer": "ipython3",
   "version": "3.11.0"
  }
 },
 "nbformat": 4,
 "nbformat_minor": 2
}
